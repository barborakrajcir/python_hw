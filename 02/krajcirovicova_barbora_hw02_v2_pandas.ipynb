{
 "cells": [
  {
   "cell_type": "code",
   "execution_count": null,
   "id": "f470aa14",
   "metadata": {},
   "outputs": [],
   "source": [
    "import pandas as pd\n",
    "import json\n",
    "\n",
    "netflix_titles = pd.read_csv(\"netflix_titles.tsv\", sep=\"\\t\").fillna(\"\")\n",
    "\n",
    "movies = []\n",
    "\n",
    "for index, row in netflix_titles.iterrows():\n",
    "    movie = {\n",
    "        \"Title\": row[\"PRIMARYTITLE\"],\n",
    "        \"Director\": row[\"DIRECTOR\"].split(',') if row[\"DIRECTOR\"] else [],\n",
    "        \"Cast\": row[\"CAST\"].split(',') if row[\"CAST\"] else [],\n",
    "        \"Genre\": row[\"GENRES\"],\n",
    "        \"Decade\": row[\"STARTYEAR\"]\n",
    "\n",
    "    }\n",
    "\n",
    "    movies.append(movie)\n",
    "    var_startyear = str(row[\"STARTYEAR\"])\n",
    "    movie[\"Decade\"] = var_startyear[:3] + \"0\"\n",
    "\n",
    "with open(\"netflix_movies_pandas.json\", \"w\", encoding=\"utf-8\") as output_file:\n",
    "    json.dump(movies, output_file, ensure_ascii=False, indent=4)"
   ]
  },
  {
   "cell_type": "code",
   "execution_count": null,
   "id": "8f0cd647",
   "metadata": {},
   "outputs": [],
   "source": []
  }
 ],
 "metadata": {
  "kernelspec": {
   "display_name": "Python 3",
   "language": "python",
   "name": "python3"
  },
  "language_info": {
   "codemirror_mode": {
    "name": "ipython",
    "version": 3
   },
   "file_extension": ".py",
   "mimetype": "text/x-python",
   "name": "python",
   "nbconvert_exporter": "python",
   "pygments_lexer": "ipython3",
   "version": "3.12.6"
  }
 },
 "nbformat": 4,
 "nbformat_minor": 5
}
